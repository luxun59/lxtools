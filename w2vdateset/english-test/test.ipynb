{
 "cells": [
  {
   "cell_type": "code",
   "execution_count": 11,
   "metadata": {},
   "outputs": [
    {
     "name": "stdout",
     "output_type": "stream",
     "text": [
      " Will it be warmer? Montana? \n"
     ]
    }
   ],
   "source": [
    "# result={'code': '000000', 'descInfo': 'success', 'content': {'orderInfo': {'orderId': 'DKHJQ20241112185601393BGBFGEaKaVX8vtVR', 'failType': 11, 'status': -1, 'originalDuration': 200, 'realDuration': 5158, 'expireTime': 1731668042000}, 'orderResult': '{\"lattice\":[{\"json_1best\":\"{\\\\\"st\\\\\":{\\\\\"sc\\\\\":\\\\\"0.00\\\\\",\\\\\"pa\\\\\":\\\\\"0\\\\\",\\\\\"rt\\\\\":[{\\\\\"ws\\\\\":[{\\\\\"cw\\\\\":[{\\\\\"w\\\\\":\\\\\" You\\\\\",\\\\\"wp\\\\\":\\\\\"n\\\\\",\\\\\"wc\\\\\":\\\\\"0.0000\\\\\"}],\\\\\"wb\\\\\":1,\\\\\"we\\\\\":20},{\\\\\"cw\\\\\":[{\\\\\"w\\\\\":\\\\\" killed\\\\\",\\\\\"wp\\\\\":\\\\\"n\\\\\",\\\\\"wc\\\\\":\\\\\"0.0000\\\\\"}],\\\\\"wb\\\\\":21,\\\\\"we\\\\\":64},{\\\\\"cw\\\\\":[{\\\\\"w\\\\\":\\\\\" all\\\\\",\\\\\"wp\\\\\":\\\\\"n\\\\\",\\\\\"wc\\\\\":\\\\\"0.0000\\\\\"}],\\\\\"wb\\\\\":65,\\\\\"we\\\\\":84},{\\\\\"cw\\\\\":[{\\\\\"w\\\\\":\\\\\" three\\\\\",\\\\\"wp\\\\\":\\\\\"n\\\\\",\\\\\"wc\\\\\":\\\\\"0.0000\\\\\"}],\\\\\"wb\\\\\":85,\\\\\"we\\\\\":120},{\\\\\"cw\\\\\":[{\\\\\"w\\\\\":\\\\\" of\\\\\",\\\\\"wp\\\\\":\\\\\"n\\\\\",\\\\\"wc\\\\\":\\\\\"0.0000\\\\\"}],\\\\\"wb\\\\\":121,\\\\\"we\\\\\":128},{\\\\\"cw\\\\\":[{\\\\\"w\\\\\":\\\\\" them\\\\\",\\\\\"wp\\\\\":\\\\\"n\\\\\",\\\\\"wc\\\\\":\\\\\"0.0000\\\\\"}],\\\\\"wb\\\\\":129,\\\\\"we\\\\\":168},{\\\\\"cw\\\\\":[{\\\\\"w\\\\\":\\\\\" for\\\\\",\\\\\"wp\\\\\":\\\\\"n\\\\\",\\\\\"wc\\\\\":\\\\\"0.0000\\\\\"}],\\\\\"wb\\\\\":169,\\\\\"we\\\\\":176},{\\\\\"cw\\\\\":[{\\\\\"w\\\\\":\\\\\" nothing\\\\\",\\\\\"wp\\\\\":\\\\\"n\\\\\",\\\\\"wc\\\\\":\\\\\"0.0000\\\\\"}],\\\\\"wb\\\\\":177,\\\\\"we\\\\\":236},{\\\\\"cw\\\\\":[{\\\\\"w\\\\\":\\\\\". \\\\\",\\\\\"og\\\\\":\\\\\".\\\\\",\\\\\"wp\\\\\":\\\\\"p\\\\\",\\\\\"wc\\\\\":\\\\\"0.0000\\\\\"}],\\\\\"wb\\\\\":236,\\\\\"we\\\\\":236},{\\\\\"cw\\\\\":[{\\\\\"w\\\\\":\\\\\"\\\\\",\\\\\"wp\\\\\":\\\\\"g\\\\\",\\\\\"wc\\\\\":\\\\\"0.0000\\\\\"}],\\\\\"wb\\\\\":236,\\\\\"we\\\\\":236}]}],\\\\\"bg\\\\\":\\\\\"1230\\\\\",\\\\\"rl\\\\\":\\\\\"0\\\\\",\\\\\"ed\\\\\":\\\\\"3670\\\\\"}}\"}],\"lattice2\":[{\"lid\":\"0\",\"end\":\"3670\",\"begin\":\"1230\",\"json_1best\":{\"st\":{\"sc\":\"0.00\",\"pa\":\"0\",\"rt\":[{\"nb\":\"1\",\"nc\":\"1.0\",\"ws\":[{\"cw\":[{\"w\":\" You\",\"wp\":\"n\",\"wc\":\"0.0000\"}],\"wb\":1,\"we\":20},{\"cw\":[{\"w\":\" killed\",\"wp\":\"n\",\"wc\":\"0.0000\"}],\"wb\":21,\"we\":64},{\"cw\":[{\"w\":\" all\",\"wp\":\"n\",\"wc\":\"0.0000\"}],\"wb\":65,\"we\":84},{\"cw\":[{\"w\":\" three\",\"wp\":\"n\",\"wc\":\"0.0000\"}],\"wb\":85,\"we\":120},{\"cw\":[{\"w\":\" of\",\"wp\":\"n\",\"wc\":\"0.0000\"}],\"wb\":121,\"we\":128},{\"cw\":[{\"w\":\" them\",\"wp\":\"n\",\"wc\":\"0.0000\"}],\"wb\":129,\"we\":168},{\"cw\":[{\"w\":\" for\",\"wp\":\"n\",\"wc\":\"0.0000\"}],\"wb\":169,\"we\":176},{\"cw\":[{\"w\":\" nothing\",\"wp\":\"n\",\"wc\":\"0.0000\"}],\"wb\":177,\"we\":236},{\"cw\":[{\"w\":\". \",\"og\":\".\",\"wp\":\"p\",\"wc\":\"0.0000\"}],\"wb\":236,\"we\":236},{\"cw\":[{\"w\":\"\",\"wp\":\"g\",\"wc\":\"0.0000\"}],\"wb\":236,\"we\":236}]}],\"pt\":\"reserved\",\"bg\":\"1230\",\"si\":\"0\",\"rl\":\"0\",\"ed\":\"3670\"}},\"spk\":\"段落-0\"}]}', 'taskEstimateTime': 0}}\n",
    "\n",
    "result =  {'code': '000000', 'descInfo': 'success', 'content': {'orderInfo': {'orderId': 'DKHJQ20241112190145882yLNBptrpGpMbXrYW', 'failType': 11, 'status': -1, 'originalDuration': 200, 'realDuration': 1678, 'expireTime': 1731668387000}, 'orderResult': '{\"lattice\":[{\"json_1best\":\"{\\\\\"st\\\\\":{\\\\\"sc\\\\\":\\\\\"0.00\\\\\",\\\\\"pa\\\\\":\\\\\"0\\\\\",\\\\\"rt\\\\\":[{\\\\\"ws\\\\\":[{\\\\\"cw\\\\\":[{\\\\\"w\\\\\":\\\\\" Will\\\\\",\\\\\"wp\\\\\":\\\\\"n\\\\\",\\\\\"wc\\\\\":\\\\\"0.0000\\\\\"}],\\\\\"wb\\\\\":1,\\\\\"we\\\\\":16},{\\\\\"cw\\\\\":[{\\\\\"w\\\\\":\\\\\" it\\\\\",\\\\\"wp\\\\\":\\\\\"n\\\\\",\\\\\"wc\\\\\":\\\\\"0.0000\\\\\"}],\\\\\"wb\\\\\":17,\\\\\"we\\\\\":28},{\\\\\"cw\\\\\":[{\\\\\"w\\\\\":\\\\\" be\\\\\",\\\\\"wp\\\\\":\\\\\"n\\\\\",\\\\\"wc\\\\\":\\\\\"0.0000\\\\\"}],\\\\\"wb\\\\\":29,\\\\\"we\\\\\":36},{\\\\\"cw\\\\\":[{\\\\\"w\\\\\":\\\\\" warmer\\\\\",\\\\\"wp\\\\\":\\\\\"n\\\\\",\\\\\"wc\\\\\":\\\\\"0.0000\\\\\"}],\\\\\"wb\\\\\":37,\\\\\"we\\\\\":72},{\\\\\"cw\\\\\":[{\\\\\"w\\\\\":\\\\\"? \\\\\",\\\\\"og\\\\\":\\\\\"?\\\\\",\\\\\"wp\\\\\":\\\\\"p\\\\\",\\\\\"wc\\\\\":\\\\\"0.0000\\\\\"}],\\\\\"wb\\\\\":72,\\\\\"we\\\\\":72},{\\\\\"cw\\\\\":[{\\\\\"w\\\\\":\\\\\"Montana\\\\\",\\\\\"og\\\\\":\\\\\" Montana\\\\\",\\\\\"wp\\\\\":\\\\\"n\\\\\",\\\\\"wc\\\\\":\\\\\"0.0000\\\\\"}],\\\\\"wb\\\\\":73,\\\\\"we\\\\\":104},{\\\\\"cw\\\\\":[{\\\\\"w\\\\\":\\\\\"? \\\\\",\\\\\"og\\\\\":\\\\\"?\\\\\",\\\\\"wp\\\\\":\\\\\"p\\\\\",\\\\\"wc\\\\\":\\\\\"0.0000\\\\\"}],\\\\\"wb\\\\\":104,\\\\\"we\\\\\":104},{\\\\\"cw\\\\\":[{\\\\\"w\\\\\":\\\\\"\\\\\",\\\\\"wp\\\\\":\\\\\"g\\\\\",\\\\\"wc\\\\\":\\\\\"0.0000\\\\\"}],\\\\\"wb\\\\\":104,\\\\\"we\\\\\":104}]}],\\\\\"bg\\\\\":\\\\\"490\\\\\",\\\\\"rl\\\\\":\\\\\"0\\\\\",\\\\\"ed\\\\\":\\\\\"1640\\\\\"}}\"}],\"lattice2\":[{\"lid\":\"0\",\"end\":\"1640\",\"begin\":\"490\",\"json_1best\":{\"st\":{\"sc\":\"0.00\",\"pa\":\"0\",\"rt\":[{\"nb\":\"1\",\"nc\":\"1.0\",\"ws\":[{\"cw\":[{\"w\":\" Will\",\"wp\":\"n\",\"wc\":\"0.0000\"}],\"wb\":1,\"we\":16},{\"cw\":[{\"w\":\" it\",\"wp\":\"n\",\"wc\":\"0.0000\"}],\"wb\":17,\"we\":28},{\"cw\":[{\"w\":\" be\",\"wp\":\"n\",\"wc\":\"0.0000\"}],\"wb\":29,\"we\":36},{\"cw\":[{\"w\":\" warmer\",\"wp\":\"n\",\"wc\":\"0.0000\"}],\"wb\":37,\"we\":72},{\"cw\":[{\"w\":\"? \",\"og\":\"?\",\"wp\":\"p\",\"wc\":\"0.0000\"}],\"wb\":72,\"we\":72},{\"cw\":[{\"w\":\"Montana\",\"og\":\" Montana\",\"wp\":\"n\",\"wc\":\"0.0000\"}],\"wb\":73,\"we\":104},{\"cw\":[{\"w\":\"? \",\"og\":\"?\",\"wp\":\"p\",\"wc\":\"0.0000\"}],\"wb\":104,\"we\":104},{\"cw\":[{\"w\":\"\",\"wp\":\"g\",\"wc\":\"0.0000\"}],\"wb\":104,\"we\":104}]}],\"pt\":\"reserved\",\"bg\":\"490\",\"si\":\"0\",\"rl\":\"0\",\"ed\":\"1640\"}},\"spk\":\"段落-0\"}]}', 'taskEstimateTime': 0}}\n",
    "# eval(result['content']['orderResult'])\n",
    "\n",
    "# 首先，将 'orderResult' 的值从 JSON 字符串转换为 Python 字典\n",
    "import json\n",
    "\n",
    "def get_sentence_from_result(result):\n",
    "    order_result_dict = json.loads(result['content']['orderResult'])\n",
    "    \n",
    "    # 然后，从 'lattice' 的第一个元素的 'json_1best' 中提取文本\n",
    "    json_1best = order_result_dict['lattice'][0]['json_1best']\n",
    "    # 由于 json_1best 是一个转义的 JSON 字符串，我们需要再次进行解码\n",
    "    json_1best_decoded = json.loads(json_1best)\n",
    "    \n",
    "    # 接下来，从解码后的字典中提取 'rt' 列表，并拼接其中的 'w' 值\n",
    "    words = [word['w'] for word_group in json_1best_decoded['st']['rt'][0]['ws'] for word in word_group['cw']]\n",
    "    sentence = ''.join(words)\n",
    "    return sentence\n",
    " \n",
    "# 输出结果\n",
    "sentence = get_sentence_from_result(result)\n",
    "print(sentence)  # 输出: You killed all three of them for nothing.\n",
    "\n",
    "\n",
    "\n",
    "# You killed all of them for nothing.\n",
    "\n",
    "\n"
   ]
  },
  {
   "cell_type": "code",
   "execution_count": 19,
   "metadata": {},
   "outputs": [
    {
     "data": {
      "text/plain": [
       "'Wed, 13 Nov 2024 02:37:37 GMT'"
      ]
     },
     "execution_count": 19,
     "metadata": {},
     "output_type": "execute_result"
    }
   ],
   "source": [
    "from datetime import datetime\n",
    "from wsgiref.handlers import format_date_time\n",
    "from time import mktime\n",
    "\n",
    "now = datetime.now()\n",
    "date = format_date_time(mktime(now.timetuple()))\n",
    "date"
   ]
  },
  {
   "cell_type": "code",
   "execution_count": 4,
   "metadata": {},
   "outputs": [
    {
     "data": {
      "text/plain": [
       "'Hello world this is a test 123 [laugh]'"
      ]
     },
     "execution_count": 4,
     "metadata": {},
     "output_type": "execute_result"
    }
   ],
   "source": [
    "import re\n",
    "def clean_text(text):\n",
    "    # 先将 i 及其缩写替换为大写形式\n",
    "    text = re.sub(r\"\\bi\\b\", \"I\", text)\n",
    "    text = re.sub(r\"\\bi'm\\b\", \"I'm\", text)\n",
    "    text = re.sub(r\"\\bi'll\\b\", \"I'll\", text)\n",
    "    text = re.sub(r\"\\bi'd\\b\", \"I'd\", text)\n",
    "    text = re.sub(r\"\\bi've\\b\", \"I've\", text)\n",
    "    # 将除去上述规则的部分转为小写\n",
    "    text = re.sub(r\"\\b(?!I\\b)(\\w+)\\b\", lambda match: match.group(1).lower(), text)\n",
    "    \n",
    "    # 将缩写中的单引号替换为占位符 \"_APOST_\"\n",
    "    text = re.sub(r\"\\b(\\w+)'(m|re|s|d|ll|ve|t|am|is|are|has|will|shall|would|had|not|us|who|what|where|when|why|how)\\b\", r\"\\1_APOST_\\2\", text)\n",
    "\n",
    "    text = re.sub(r'\\[(\\w+)\\]', lambda m: f'_APOSTL_{m.group(1)}_APOSTR_', text)\n",
    "\n",
    "    # 将剩余所有标点符号替换为空格\n",
    "    text = re.sub(r\"[^\\w\\s]\", ' ', text)\n",
    "    # 将占位符替换回单引号\n",
    "    text = text.replace(\"_APOST_\", \"'\")\n",
    "    text = text.replace(\"_APOSTL_\", \"[\")\n",
    "    text = text.replace(\"_APOSTR_\", \"]\")\n",
    "\n",
    "    # 移除多余空格，仅保留一个空格\n",
    "    text = re.sub(r'\\s+', ' ', text).strip()\n",
    "\n",
    "    # 将每个句子的首字母大写\n",
    "    text = re.sub(r\"(^|\\.\\s+)(\\w)\", lambda match: match.group(1) + match.group(2).upper(), text)\n",
    "    return text\n",
    "\n",
    "text=\"Hello, World! This is a test: 123 [laugh].\"\n",
    "\n",
    "clean_text(text)\n"
   ]
  }
 ],
 "metadata": {
  "kernelspec": {
   "display_name": "pytorch",
   "language": "python",
   "name": "python3"
  },
  "language_info": {
   "codemirror_mode": {
    "name": "ipython",
    "version": 3
   },
   "file_extension": ".py",
   "mimetype": "text/x-python",
   "name": "python",
   "nbconvert_exporter": "python",
   "pygments_lexer": "ipython3",
   "version": "3.10.14"
  }
 },
 "nbformat": 4,
 "nbformat_minor": 2
}
