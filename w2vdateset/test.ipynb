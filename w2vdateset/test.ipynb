{
 "cells": [
  {
   "cell_type": "code",
   "execution_count": 2,
   "metadata": {},
   "outputs": [
    {
     "data": {
      "text/plain": [
       "'/abc\\\\a.wav'"
      ]
     },
     "execution_count": 2,
     "metadata": {},
     "output_type": "execute_result"
    }
   ],
   "source": [
    "import os\n",
    "files_dir = '/abc'\n",
    "wav_file=\"a.wav\"\n",
    "wav_file=os.path.join(files_dir,wav_file) \n",
    "wav_file"
   ]
  },
  {
   "cell_type": "markdown",
   "metadata": {},
   "source": [
    "### 读取wav信息"
   ]
  },
  {
   "cell_type": "code",
   "execution_count": 1,
   "metadata": {},
   "outputs": [
    {
     "name": "stdout",
     "output_type": "stream",
     "text": [
      "读取WAV文件时出错: file does not start with RIFF id\n"
     ]
    }
   ],
   "source": [
    "\n",
    "file_dir = r\"E:\\221022_xxy_fairmodelfromcgf\"\n",
    "# file_name = r\"\\en_4156-A_030185-030248.wav\"\n",
    "file_name = r\"\\AimeeMullins_2009P-0001782-0002881.wav\"\n",
    "# file_name = r\"\\alltypes-PHNL1-HCF-Center-126500-Jul-18-2022-0630Z-1_seg-0005434_0005640.wav\"\n",
    "\n",
    "import wave  \n",
    "  \n",
    "def print_wav_info(file_path):  \n",
    "    try:  \n",
    "        # 打开WAV文件  \n",
    "        with wave.open(file_path, 'r') as wav_file:  \n",
    "            # 获取参数  \n",
    "            num_channels = wav_file.getnchannels()  \n",
    "            sample_width = wav_file.getsampwidth()  \n",
    "            framerate = wav_file.getframerate()  \n",
    "            num_frames = wav_file.getnframes()  \n",
    "            comptype = wav_file.getcomptype()  \n",
    "            compname = wav_file.getcompname()  \n",
    "  \n",
    "            # 打印信息  \n",
    "            print(f\"文件路径: {file_path}\")  \n",
    "            print(f\"通道数: {num_channels}\")  \n",
    "            print(f\"采样宽度 (字节): {sample_width}\")  \n",
    "            print(f\"采样率 (Hz): {framerate}\")  \n",
    "            print(f\"帧数: {num_frames}\")  \n",
    "            print(f\"压缩类型: {comptype}\")  \n",
    "            print(f\"压缩名称: {compname}\")  \n",
    "  \n",
    "            # 计算音频文件的持续时间（秒）  \n",
    "            duration = num_frames / framerate  \n",
    "            print(f\"持续时间 (秒): {duration:.2f}\")  \n",
    "  \n",
    "    except FileNotFoundError:  \n",
    "        print(f\"文件未找到: {file_path}\")  \n",
    "    except wave.Error as e:  \n",
    "        print(f\"读取WAV文件时出错: {e}\")  \n",
    "  \n",
    "# 示例使用  \n",
    "file_path = file_dir+file_name\n",
    "print_wav_info(file_path)\n"
   ]
  },
  {
   "cell_type": "markdown",
   "metadata": {},
   "source": [
    "#### 读取mp3等"
   ]
  },
  {
   "cell_type": "code",
   "execution_count": 6,
   "metadata": {},
   "outputs": [
    {
     "name": "stdout",
     "output_type": "stream",
     "text": [
      "采样率: 16000 Hz\n",
      "音频时长: 11.4 秒\n",
      "音频数据的类型: float64\n"
     ]
    }
   ],
   "source": [
    "import soundfile as sf\n",
    "\n",
    "\n",
    "file_dir = r\"E:\\work\\wennetspeech\\wenetspeech\\our-wenetspeeeech-test\"\n",
    "# file_name = r\"\\en_4156-A_030185-030248.wav\"\n",
    "file_name = r\"\\TEST_MEETING_T0000006000_S00000.wav\"\n",
    "# 读取音频文件\n",
    "file_path = file_dir+file_name  # 替换为你的音频文件路径\n",
    "\n",
    "data, samplerate = sf.read(file_path)\n",
    "\n",
    "# 获取音频信息\n",
    "print(f\"采样率: {samplerate} Hz\")\n",
    "# print(f\"通道数: {data.shape[1]}\")  # 如果音频是立体声，则为2，单声道则为1\n",
    "print(f\"音频时长: {len(data) / samplerate} 秒\")\n",
    "# print(f\"每个样本的位数: {sf.info(file_path).subtype.name.split('_')[-1]} 位\")  # 例如，'PCM_16' 表示 16 位\n",
    "print(f\"音频数据的类型: {data.dtype}\")  # 例如，'float32' 或 'int16'"
   ]
  },
  {
   "cell_type": "code",
   "execution_count": 8,
   "metadata": {},
   "outputs": [
    {
     "name": "stdout",
     "output_type": "stream",
     "text": [
      "采样率: 16000 Hz\n",
      "音频时长: 32.55 秒\n",
      "音频数据的类型: float64\n"
     ]
    }
   ],
   "source": [
    "import soundfile as sf\n",
    "\n",
    "\n",
    "file_dir = r\"C:\\Users\\luxun\\Desktop\\testdata\"\n",
    "# file_name = r\"\\en_4156-A_030185-030248.wav\"\n",
    "file_name = r\"\\JaneMcGonigal_2010-0019692-0022947.wav\"\n",
    "# 读取音频文件\n",
    "file_path = file_dir+file_name  # 替换为你的音频文件路径\n",
    "\n",
    "data, samplerate = sf.read(file_path)\n",
    "\n",
    "# 获取音频信息\n",
    "print(f\"采样率: {samplerate} Hz\")\n",
    "# print(f\"通道数: {data.shape[1]}\")  # 如果音频是立体声，则为2，单声道则为1\n",
    "print(f\"音频时长: {len(data) / samplerate} 秒\")\n",
    "# print(f\"每个样本的位数: {sf.info(file_path).subtype.name.split('_')[-1]} 位\")  # 例如，'PCM_16' 表示 16 位\n",
    "print(f\"音频数据的类型: {data.dtype}\")  # 例如，'float32' 或 'int16'\n",
    "\n",
    "data = data[-10*samplerate:]\n",
    "\n",
    "sf.write('JaneMcGonigal_2010-0019692-0022947.wav', data, samplerate, 'PCM_16')\n",
    "\n"
   ]
  }
 ],
 "metadata": {
  "kernelspec": {
   "display_name": "pytorch",
   "language": "python",
   "name": "python3"
  },
  "language_info": {
   "codemirror_mode": {
    "name": "ipython",
    "version": 3
   },
   "file_extension": ".py",
   "mimetype": "text/x-python",
   "name": "python",
   "nbconvert_exporter": "python",
   "pygments_lexer": "ipython3",
   "version": "3.10.14"
  }
 },
 "nbformat": 4,
 "nbformat_minor": 2
}
